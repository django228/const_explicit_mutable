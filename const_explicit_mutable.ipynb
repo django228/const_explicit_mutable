{
 "cells": [
  {
   "cell_type": "markdown",
   "id": "14c3af1f-d69e-4fa5-bad8-d7e53e460f39",
   "metadata": {},
   "source": [
    "## Const"
   ]
  },
  {
   "cell_type": "code",
   "execution_count": 39,
   "id": "fb102f07-a835-4e38-9fbb-998209b2a2f7",
   "metadata": {},
   "outputs": [],
   "source": [
    "#include <iostream>\n",
    "#include <string>"
   ]
  },
  {
   "cell_type": "code",
   "execution_count": 40,
   "id": "93953a99-32de-4533-997f-80a86a4746fa",
   "metadata": {
    "editable": true,
    "slideshow": {
     "slide_type": ""
    },
    "tags": []
   },
   "outputs": [],
   "source": [
    "struct s {\n",
    "    const std::string string = \"un-const\";\n",
    "\n",
    "    void f() {\n",
    "        std::cout << string;\n",
    "    }\n",
    "};"
   ]
  },
  {
   "cell_type": "code",
   "execution_count": 41,
   "id": "ff925082-5a9e-4fec-ba8f-c0abc762e121",
   "metadata": {},
   "outputs": [
    {
     "name": "stderr",
     "output_type": "stream",
     "text": [
      "\u001b[1minput_line_50:3:5: \u001b[0m\u001b[0;1;31merror: \u001b[0m\u001b[1m'this' argument to member function 'f' has type 'const __cling_N537::s', but function is not marked const\u001b[0m\n",
      "    S.f();\n",
      "\u001b[0;1;32m    ^\n",
      "\u001b[0m\u001b[1minput_line_49:3:10: \u001b[0m\u001b[0;1;30mnote: \u001b[0m'f' declared here\u001b[0m\n",
      "    void f() {\n",
      "\u001b[0;1;32m         ^\n",
      "\u001b[0m"
     ]
    },
    {
     "ename": "Interpreter Error",
     "evalue": "",
     "output_type": "error",
     "traceback": [
      "Interpreter Error: "
     ]
    }
   ],
   "source": [
    "int main() {\n",
    "    const s S;\n",
    "    S.f();\n",
    "\n",
    "    return 0;\n",
    "}"
   ]
  },
  {
   "cell_type": "markdown",
   "id": "ec254a81-74d1-4677-b777-37505e584d49",
   "metadata": {},
   "source": [
    "<b>Стоит запомнить, что у константых объектов НЕЛЬЗЯ вызывать неконстантные методы. А если и вызвываете константный метод, то тот в свою очередь ОБЯЗАН использовать тоже лишь константные методы.</b>"
   ]
  },
  {
   "cell_type": "markdown",
   "id": "0df96732-ab9c-4c46-bec7-e72333250134",
   "metadata": {},
   "source": [
    "Для нашего кейса решение будет таким:"
   ]
  },
  {
   "cell_type": "code",
   "execution_count": 28,
   "id": "2db83926-53b3-4fde-beff-87fd5ba4b0db",
   "metadata": {},
   "outputs": [],
   "source": [
    "struct s {\n",
    "    const std::string string = \"un-const\";\n",
    "\n",
    "    void f() const {\n",
    "        std::cout << string;\n",
    "    }\n",
    "};"
   ]
  },
  {
   "cell_type": "code",
   "execution_count": 29,
   "id": "84fdab46-22e1-4eec-a973-f1520ca372a9",
   "metadata": {},
   "outputs": [],
   "source": [
    "int main() {\n",
    "    const s S;\n",
    "    S.f();\n",
    "\n",
    "    return 0;\n",
    "}"
   ]
  },
  {
   "cell_type": "code",
   "execution_count": 30,
   "id": "64a10cd8-64a6-4a27-b0b0-9a2c04af45e5",
   "metadata": {},
   "outputs": [
    {
     "name": "stdout",
     "output_type": "stream",
     "text": [
      "un-const"
     ]
    }
   ],
   "source": [
    "main();"
   ]
  },
  {
   "cell_type": "markdown",
   "id": "0a8cf738-26a7-422a-af41-635192073ff5",
   "metadata": {},
   "source": [
    "<b>Ключевое слово _const_ накладывает на функцию такие ограничения, которые не позволят функции менять поведение объекта, выполнять какие-либо модифицирующие действия над полями этого класса.</b>"
   ]
  },
  {
   "cell_type": "code",
   "execution_count": 35,
   "id": "b529b091-7553-49e3-b8ba-0828607fcf9c",
   "metadata": {
    "scrolled": true
   },
   "outputs": [
    {
     "name": "stderr",
     "output_type": "stream",
     "text": [
      "\u001b[1minput_line_44:5:9: \u001b[0m\u001b[0;1;31merror: \u001b[0m\u001b[1mcannot assign to non-static data member within const member function 'f'\u001b[0m\n",
      "        ++x;\n",
      "\u001b[0;1;32m        ^ ~\n",
      "\u001b[0m\u001b[1minput_line_44:4:10: \u001b[0m\u001b[0;1;30mnote: \u001b[0mmember function 's::f' is declared const here\u001b[0m\n",
      "    void f() const {\n",
      "\u001b[0;1;32m    ~~~~~^~~~~~~~~\n",
      "\u001b[0m"
     ]
    },
    {
     "ename": "Interpreter Error",
     "evalue": "",
     "output_type": "error",
     "traceback": [
      "Interpreter Error: "
     ]
    }
   ],
   "source": [
    "struct s {\n",
    "    const std::string string = \"un-const\";\n",
    "    int x = 0;\n",
    "\n",
    "    void f() const {\n",
    "        ++x;\n",
    "    }\n",
    "};"
   ]
  },
  {
   "cell_type": "markdown",
   "id": "2ea6f975-593f-4330-95bd-ecae05a65b2f",
   "metadata": {},
   "source": [
    "<b>В нашу функцию передается нулевым аргументом указатель на наш класс(*this).<br>\n",
    "  У const function на вход подается const *this => сигнатура у const и unconst функций будет разной в любом случае. </b>"
   ]
  },
  {
   "cell_type": "code",
   "execution_count": 42,
   "id": "907a9faf-eb70-4c44-849a-5c78f431a6eb",
   "metadata": {},
   "outputs": [],
   "source": [
    "struct s {\n",
    "    void f() const {\n",
    "        std::cout << \"const-function\";\n",
    "    }\n",
    "\n",
    "   void f() {\n",
    "        std::cout << \"unconst-function\";\n",
    "    }\n",
    "};"
   ]
  },
  {
   "cell_type": "code",
   "execution_count": 44,
   "id": "f1921ae2-bf41-487b-b2f3-f84fa793cf7a",
   "metadata": {},
   "outputs": [],
   "source": [
    "const s ConstStructure;\n",
    "s UnConstStructure;"
   ]
  },
  {
   "cell_type": "code",
   "execution_count": 46,
   "id": "8dee7eac-6171-4287-89d1-aebb9454e27d",
   "metadata": {},
   "outputs": [
    {
     "name": "stdout",
     "output_type": "stream",
     "text": [
      "const-function"
     ]
    }
   ],
   "source": [
    "ConstStructure.f();"
   ]
  },
  {
   "cell_type": "code",
   "execution_count": 47,
   "id": "4f78d0c4-72af-42b1-9110-acc7a8faf645",
   "metadata": {},
   "outputs": [
    {
     "name": "stdout",
     "output_type": "stream",
     "text": [
      "unconst-function"
     ]
    }
   ],
   "source": [
    "UnConstStructure.f();"
   ]
  },
  {
   "cell_type": "markdown",
   "id": "0680acee-f539-4734-ab91-12534f115849",
   "metadata": {},
   "source": [
    "<b>Маленький парадокс для Вас:</b>"
   ]
  },
  {
   "cell_type": "code",
   "execution_count": 51,
   "id": "5274c953-be62-451a-b77e-65ee1b7a5688",
   "metadata": {},
   "outputs": [],
   "source": [
    "struct s {\n",
    "    int x = 1;\n",
    "    int& r = x;\n",
    "\n",
    "    void f(int y) const {\n",
    "        r = y;\n",
    "    }\n",
    "};"
   ]
  },
  {
   "cell_type": "code",
   "execution_count": 59,
   "id": "d7b9bfdd-2c56-4a64-9b33-c0ac005e2718",
   "metadata": {},
   "outputs": [
    {
     "name": "stdout",
     "output_type": "stream",
     "text": [
      "10"
     ]
    }
   ],
   "source": [
    "s S;\n",
    "S.f(10);"
   ]
  },
  {
   "cell_type": "code",
   "execution_count": 60,
   "id": "a063cb7b-a027-42fe-88c5-66c970ce2b52",
   "metadata": {},
   "outputs": [
    {
     "name": "stdout",
     "output_type": "stream",
     "text": [
      "10"
     ]
    }
   ],
   "source": [
    "std::cout << S.x;"
   ]
  },
  {
   "cell_type": "markdown",
   "id": "c445c800-ad7b-4871-ad53-fdcf733967aa",
   "metadata": {},
   "source": [
    "<b>Мы смогли получить неконстантую ссылку на константный x :)). И это скомпилируется без всяких CE, и никакие Wpedantic и Санитайзеры не найдут абсолютно ничего.</b>"
   ]
  },
  {
   "cell_type": "markdown",
   "id": "b557d885-368b-4e74-bbfd-785227602b17",
   "metadata": {},
   "source": [
    "## Mutable"
   ]
  },
  {
   "cell_type": "markdown",
   "id": "d492629d-b648-4ae4-8777-c69870150691",
   "metadata": {},
   "source": [
    "<b>Если вы хоть когда-нибудь задумывались о легальном _\"anticonst\"_, то mutable - для вас. <br></b>"
   ]
  },
  {
   "cell_type": "markdown",
   "id": "f162508a-1d8e-490b-8653-5ef8ebd3a362",
   "metadata": {},
   "source": [
    "Порой нам необходимо создать илюзию константности метода, хоть метод может быть и не совсем константным. Например, Splay-дерево является отличным тому примером. \n",
    "Splay-дерево уникально тем, что после каждого обращения, даже поиска, splay-дерево меняет свою структуру. Но в свою очередь find для пользователя не выполняет более умное действие, как просто вернуть true/false или же указатель на найденую ноду(вершину).<br> <b>Происходит дилемма, с точки зрения работы класса find неконстантный, с точки зрения юзера - наоборот.</b>\n"
   ]
  },
  {
   "cell_type": "markdown",
   "id": "e3670abe-b25d-4f04-bee8-2262671ad84a",
   "metadata": {},
   "source": [
    "Ключевое слово _mutable_ существует в стандарте языка С++ для решения данного класса проблем. Его можно добавить к переменным членам класса для указания того, что данная переменная может изменяться даже в константном контексте."
   ]
  },
  {
   "cell_type": "markdown",
   "id": "5f4dd514-6971-4530-ad4d-e450ea94568a",
   "metadata": {},
   "source": [
    "Изменение внутреннего состояния объекта может требоваться по каким-то глубоко техническим причинам и это не должно быть заметно для внешних клиентов нашего класса."
   ]
  },
  {
   "cell_type": "code",
   "execution_count": 72,
   "id": "0d3902d0-eef2-4b1b-8a73-1a2ba784c972",
   "metadata": {},
   "outputs": [],
   "source": [
    "//пробуем поменять поле класса константым методом\n",
    "struct s {\n",
    "    mutable int x = 0;\n",
    "\n",
    "    void f() const {\n",
    "        ++x;\n",
    "    }\n",
    "};"
   ]
  },
  {
   "cell_type": "code",
   "execution_count": 71,
   "id": "f8165926-753b-4a59-8a7d-32eba9efaf4f",
   "metadata": {},
   "outputs": [],
   "source": [
    "s S;\n",
    "S.f();"
   ]
  },
  {
   "cell_type": "code",
   "execution_count": 70,
   "id": "3d2187c6-70e6-47f2-a90e-e3ae18ba06bf",
   "metadata": {},
   "outputs": [
    {
     "name": "stdout",
     "output_type": "stream",
     "text": [
      "1"
     ]
    }
   ],
   "source": [
    "std::cout << S.x;"
   ]
  },
  {
   "cell_type": "markdown",
   "id": "b32ef38e-4b02-4487-9a10-13cc5b51b8bd",
   "metadata": {},
   "source": []
  }
 ],
 "metadata": {
  "kernelspec": {
   "display_name": "C++17",
   "language": "C++17",
   "name": "xcpp17"
  },
  "language_info": {
   "codemirror_mode": "text/x-c++src",
   "file_extension": ".cpp",
   "mimetype": "text/x-c++src",
   "name": "c++",
   "version": "17"
  }
 },
 "nbformat": 4,
 "nbformat_minor": 5
}
